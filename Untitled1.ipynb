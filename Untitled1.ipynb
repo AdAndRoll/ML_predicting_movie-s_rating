{
  "nbformat": 4,
  "nbformat_minor": 0,
  "metadata": {
    "colab": {
      "provenance": [],
      "authorship_tag": "ABX9TyNzMf30jk5avSqXe/opp1Fd",
      "include_colab_link": true
    },
    "kernelspec": {
      "name": "python3",
      "display_name": "Python 3"
    },
    "language_info": {
      "name": "python"
    }
  },
  "cells": [
    {
      "cell_type": "markdown",
      "metadata": {
        "id": "view-in-github",
        "colab_type": "text"
      },
      "source": [
        "<a href=\"https://colab.research.google.com/github/AdAndRoll/ML_predicting_movie-s_rating/blob/main/Untitled1.ipynb\" target=\"_parent\"><img src=\"https://colab.research.google.com/assets/colab-badge.svg\" alt=\"Open In Colab\"/></a>"
      ]
    },
    {
      "cell_type": "markdown",
      "source": [
        "В датасете содержаться данные о фильмах: их название, рейтинг, режиссеры, главные актеры, сборы и тд. Я хочу выделить за класс изучение рейтинг фильмов, я разделил их на 3 категории:\n",
        "хорошие(3)\n",
        "средние(2)\n",
        "плохие(1)"
      ],
      "metadata": {
        "id": "BHHFupaRU0FU"
      }
    },
    {
      "cell_type": "code",
      "source": [
        "import pandas as pd\n",
        "import numpy as np\n",
        "import matplotlib.pyplot as plt\n",
        "import seaborn as sns\n",
        "from sklearn.preprocessing import MinMaxScaler\n",
        "from sklearn.impute import SimpleImputer\n",
        "from imblearn.over_sampling import SMOTE\n",
        "from sklearn.model_selection import train_test_split\n",
        "from sklearn.neighbors import KNeighborsClassifier\n",
        "from sklearn.metrics import classification_report\n",
        "%matplotlib inline\n",
        "\n",
        "import kagglehub\n",
        "\n",
        "# Download latest version\n",
        "path = kagglehub.dataset_download(\"danielgrijalvas/movies\")\n",
        "path += \"/movies.csv\"\n",
        "print(\"Path to dataset files:\", path)\n"
      ],
      "metadata": {
        "colab": {
          "base_uri": "https://localhost:8080/"
        },
        "id": "7rCa4IM4VSW8",
        "outputId": "c8e3c1ba-b615-4c44-be9f-bd74457b0e57"
      },
      "execution_count": 1,
      "outputs": [
        {
          "output_type": "stream",
          "name": "stdout",
          "text": [
            "Warning: Looks like you're using an outdated `kagglehub` version (installed: 0.3.5), please consider upgrading to the latest version (0.3.6).\n",
            "Path to dataset files: /root/.cache/kagglehub/datasets/danielgrijalvas/movies/versions/2/movies.csv\n"
          ]
        }
      ]
    },
    {
      "cell_type": "code",
      "source": [
        "data = pd.read_csv(path, sep=',', header=None,  engine='python')"
      ],
      "metadata": {
        "id": "LNZyudd6VV0o"
      },
      "execution_count": 2,
      "outputs": []
    },
    {
      "cell_type": "code",
      "source": [
        "type(data)"
      ],
      "metadata": {
        "colab": {
          "base_uri": "https://localhost:8080/",
          "height": 204
        },
        "id": "hMjQAn-6WKyx",
        "outputId": "6f43980c-b21e-43bd-e138-230d6c13e200"
      },
      "execution_count": 3,
      "outputs": [
        {
          "output_type": "execute_result",
          "data": {
            "text/plain": [
              "pandas.core.frame.DataFrame"
            ],
            "text/html": [
              "<div style=\"max-width:800px; border: 1px solid var(--colab-border-color);\"><style>\n",
              "      pre.function-repr-contents {\n",
              "        overflow-x: auto;\n",
              "        padding: 8px 12px;\n",
              "        max-height: 500px;\n",
              "      }\n",
              "\n",
              "      pre.function-repr-contents.function-repr-contents-collapsed {\n",
              "        cursor: pointer;\n",
              "        max-height: 100px;\n",
              "      }\n",
              "    </style>\n",
              "    <pre style=\"white-space: initial; background:\n",
              "         var(--colab-secondary-surface-color); padding: 8px 12px;\n",
              "         border-bottom: 1px solid var(--colab-border-color);\"><b>pandas.core.frame.DataFrame</b><br/>def __init__(data=None, index: Axes | None=None, columns: Axes | None=None, dtype: Dtype | None=None, copy: bool | None=None) -&gt; None</pre><pre class=\"function-repr-contents function-repr-contents-collapsed\" style=\"\"><a class=\"filepath\" style=\"display:none\" href=\"#\">/usr/local/lib/python3.10/dist-packages/pandas/core/frame.py</a>Two-dimensional, size-mutable, potentially heterogeneous tabular data.\n",
              "\n",
              "Data structure also contains labeled axes (rows and columns).\n",
              "Arithmetic operations align on both row and column labels. Can be\n",
              "thought of as a dict-like container for Series objects. The primary\n",
              "pandas data structure.\n",
              "\n",
              "Parameters\n",
              "----------\n",
              "data : ndarray (structured or homogeneous), Iterable, dict, or DataFrame\n",
              "    Dict can contain Series, arrays, constants, dataclass or list-like objects. If\n",
              "    data is a dict, column order follows insertion-order. If a dict contains Series\n",
              "    which have an index defined, it is aligned by its index. This alignment also\n",
              "    occurs if data is a Series or a DataFrame itself. Alignment is done on\n",
              "    Series/DataFrame inputs.\n",
              "\n",
              "    If data is a list of dicts, column order follows insertion-order.\n",
              "\n",
              "index : Index or array-like\n",
              "    Index to use for resulting frame. Will default to RangeIndex if\n",
              "    no indexing information part of input data and no index provided.\n",
              "columns : Index or array-like\n",
              "    Column labels to use for resulting frame when data does not have them,\n",
              "    defaulting to RangeIndex(0, 1, 2, ..., n). If data contains column labels,\n",
              "    will perform column selection instead.\n",
              "dtype : dtype, default None\n",
              "    Data type to force. Only a single dtype is allowed. If None, infer.\n",
              "copy : bool or None, default None\n",
              "    Copy data from inputs.\n",
              "    For dict data, the default of None behaves like ``copy=True``.  For DataFrame\n",
              "    or 2d ndarray input, the default of None behaves like ``copy=False``.\n",
              "    If data is a dict containing one or more Series (possibly of different dtypes),\n",
              "    ``copy=False`` will ensure that these inputs are not copied.\n",
              "\n",
              "    .. versionchanged:: 1.3.0\n",
              "\n",
              "See Also\n",
              "--------\n",
              "DataFrame.from_records : Constructor from tuples, also record arrays.\n",
              "DataFrame.from_dict : From dicts of Series, arrays, or dicts.\n",
              "read_csv : Read a comma-separated values (csv) file into DataFrame.\n",
              "read_table : Read general delimited file into DataFrame.\n",
              "read_clipboard : Read text from clipboard into DataFrame.\n",
              "\n",
              "Notes\n",
              "-----\n",
              "Please reference the :ref:`User Guide &lt;basics.dataframe&gt;` for more information.\n",
              "\n",
              "Examples\n",
              "--------\n",
              "Constructing DataFrame from a dictionary.\n",
              "\n",
              "&gt;&gt;&gt; d = {&#x27;col1&#x27;: [1, 2], &#x27;col2&#x27;: [3, 4]}\n",
              "&gt;&gt;&gt; df = pd.DataFrame(data=d)\n",
              "&gt;&gt;&gt; df\n",
              "   col1  col2\n",
              "0     1     3\n",
              "1     2     4\n",
              "\n",
              "Notice that the inferred dtype is int64.\n",
              "\n",
              "&gt;&gt;&gt; df.dtypes\n",
              "col1    int64\n",
              "col2    int64\n",
              "dtype: object\n",
              "\n",
              "To enforce a single dtype:\n",
              "\n",
              "&gt;&gt;&gt; df = pd.DataFrame(data=d, dtype=np.int8)\n",
              "&gt;&gt;&gt; df.dtypes\n",
              "col1    int8\n",
              "col2    int8\n",
              "dtype: object\n",
              "\n",
              "Constructing DataFrame from a dictionary including Series:\n",
              "\n",
              "&gt;&gt;&gt; d = {&#x27;col1&#x27;: [0, 1, 2, 3], &#x27;col2&#x27;: pd.Series([2, 3], index=[2, 3])}\n",
              "&gt;&gt;&gt; pd.DataFrame(data=d, index=[0, 1, 2, 3])\n",
              "   col1  col2\n",
              "0     0   NaN\n",
              "1     1   NaN\n",
              "2     2   2.0\n",
              "3     3   3.0\n",
              "\n",
              "Constructing DataFrame from numpy ndarray:\n",
              "\n",
              "&gt;&gt;&gt; df2 = pd.DataFrame(np.array([[1, 2, 3], [4, 5, 6], [7, 8, 9]]),\n",
              "...                    columns=[&#x27;a&#x27;, &#x27;b&#x27;, &#x27;c&#x27;])\n",
              "&gt;&gt;&gt; df2\n",
              "   a  b  c\n",
              "0  1  2  3\n",
              "1  4  5  6\n",
              "2  7  8  9\n",
              "\n",
              "Constructing DataFrame from a numpy ndarray that has labeled columns:\n",
              "\n",
              "&gt;&gt;&gt; data = np.array([(1, 2, 3), (4, 5, 6), (7, 8, 9)],\n",
              "...                 dtype=[(&quot;a&quot;, &quot;i4&quot;), (&quot;b&quot;, &quot;i4&quot;), (&quot;c&quot;, &quot;i4&quot;)])\n",
              "&gt;&gt;&gt; df3 = pd.DataFrame(data, columns=[&#x27;c&#x27;, &#x27;a&#x27;])\n",
              "...\n",
              "&gt;&gt;&gt; df3\n",
              "   c  a\n",
              "0  3  1\n",
              "1  6  4\n",
              "2  9  7\n",
              "\n",
              "Constructing DataFrame from dataclass:\n",
              "\n",
              "&gt;&gt;&gt; from dataclasses import make_dataclass\n",
              "&gt;&gt;&gt; Point = make_dataclass(&quot;Point&quot;, [(&quot;x&quot;, int), (&quot;y&quot;, int)])\n",
              "&gt;&gt;&gt; pd.DataFrame([Point(0, 0), Point(0, 3), Point(2, 3)])\n",
              "   x  y\n",
              "0  0  0\n",
              "1  0  3\n",
              "2  2  3\n",
              "\n",
              "Constructing DataFrame from Series/DataFrame:\n",
              "\n",
              "&gt;&gt;&gt; ser = pd.Series([1, 2, 3], index=[&quot;a&quot;, &quot;b&quot;, &quot;c&quot;])\n",
              "&gt;&gt;&gt; df = pd.DataFrame(data=ser, index=[&quot;a&quot;, &quot;c&quot;])\n",
              "&gt;&gt;&gt; df\n",
              "   0\n",
              "a  1\n",
              "c  3\n",
              "\n",
              "&gt;&gt;&gt; df1 = pd.DataFrame([1, 2, 3], index=[&quot;a&quot;, &quot;b&quot;, &quot;c&quot;], columns=[&quot;x&quot;])\n",
              "&gt;&gt;&gt; df2 = pd.DataFrame(data=df1, index=[&quot;a&quot;, &quot;c&quot;])\n",
              "&gt;&gt;&gt; df2\n",
              "   x\n",
              "a  1\n",
              "c  3</pre>\n",
              "      <script>\n",
              "      if (google.colab.kernel.accessAllowed && google.colab.files && google.colab.files.view) {\n",
              "        for (const element of document.querySelectorAll('.filepath')) {\n",
              "          element.style.display = 'block'\n",
              "          element.onclick = (event) => {\n",
              "            event.preventDefault();\n",
              "            event.stopPropagation();\n",
              "            google.colab.files.view(element.textContent, 509);\n",
              "          };\n",
              "        }\n",
              "      }\n",
              "      for (const element of document.querySelectorAll('.function-repr-contents')) {\n",
              "        element.onclick = (event) => {\n",
              "          event.preventDefault();\n",
              "          event.stopPropagation();\n",
              "          element.classList.toggle('function-repr-contents-collapsed');\n",
              "        };\n",
              "      }\n",
              "      </script>\n",
              "      </div>"
            ]
          },
          "metadata": {},
          "execution_count": 3
        }
      ]
    },
    {
      "cell_type": "code",
      "source": [
        "data"
      ],
      "metadata": {
        "colab": {
          "base_uri": "https://localhost:8080/",
          "height": 545
        },
        "id": "5Z2BxsH3WXb3",
        "outputId": "4e44c5fd-2450-4bfe-d660-41896363db96"
      },
      "execution_count": 4,
      "outputs": [
        {
          "output_type": "execute_result",
          "data": {
            "text/plain": [
              "                                                  0       1          2     3   \\\n",
              "0                                               name  rating      genre  year   \n",
              "1                                        The Shining       R      Drama  1980   \n",
              "2                                    The Blue Lagoon       R  Adventure  1980   \n",
              "3     Star Wars: Episode V - The Empire Strikes Back      PG     Action  1980   \n",
              "4                                          Airplane!      PG     Comedy  1980   \n",
              "...                                              ...     ...        ...   ...   \n",
              "7664                                    More to Life     NaN      Drama  2020   \n",
              "7665                                     Dream Round     NaN     Comedy  2020   \n",
              "7666                                   Saving Mbango     NaN      Drama  2020   \n",
              "7667                                    It's Just Us     NaN      Drama  2020   \n",
              "7668                                       Tee em el     NaN     Horror  2020   \n",
              "\n",
              "                                    4      5          6                7   \\\n",
              "0                             released  score      votes         director   \n",
              "1        June 13, 1980 (United States)    8.4   927000.0  Stanley Kubrick   \n",
              "2         July 2, 1980 (United States)    5.8    65000.0   Randal Kleiser   \n",
              "3        June 20, 1980 (United States)    8.7  1200000.0   Irvin Kershner   \n",
              "4         July 2, 1980 (United States)    7.7   221000.0     Jim Abrahams   \n",
              "...                                ...    ...        ...              ...   \n",
              "7664  October 23, 2020 (United States)    3.1       18.0    Joseph Ebanks   \n",
              "7665  February 7, 2020 (United States)    4.7       36.0     Dusty Dukatz   \n",
              "7666         April 27, 2020 (Cameroon)    5.7       29.0     Nkanya Nkwai   \n",
              "7667   October 1, 2020 (United States)    NaN        NaN    James Randall   \n",
              "7668   August 19, 2020 (United States)    5.7        7.0     Pereko Mosia   \n",
              "\n",
              "                           8                 9               10          11  \\\n",
              "0                      writer              star         country      budget   \n",
              "1                Stephen King    Jack Nicholson  United Kingdom  19000000.0   \n",
              "2     Henry De Vere Stacpoole    Brooke Shields   United States   4500000.0   \n",
              "3              Leigh Brackett       Mark Hamill   United States  18000000.0   \n",
              "4                Jim Abrahams       Robert Hays   United States   3500000.0   \n",
              "...                       ...               ...             ...         ...   \n",
              "7664            Joseph Ebanks      Shannon Bond   United States      7000.0   \n",
              "7665              Lisa Huston  Michael Saquella   United States         NaN   \n",
              "7666             Lynno Lovert      Onyama Laura   United States     58750.0   \n",
              "7667            James Randall     Christina Roz   United States     15000.0   \n",
              "7668             Pereko Mosia  Siyabonga Mabaso    South Africa         NaN   \n",
              "\n",
              "               12                         13       14  \n",
              "0           gross                    company  runtime  \n",
              "1      46998772.0               Warner Bros.    146.0  \n",
              "2      58853106.0          Columbia Pictures    104.0  \n",
              "3     538375067.0                  Lucasfilm    124.0  \n",
              "4      83453539.0         Paramount Pictures     88.0  \n",
              "...           ...                        ...      ...  \n",
              "7664          NaN                        NaN     90.0  \n",
              "7665          NaN  Cactus Blue Entertainment     90.0  \n",
              "7666          NaN           Embi Productions      NaN  \n",
              "7667          NaN                        NaN    120.0  \n",
              "7668          NaN                PK 65 Films    102.0  \n",
              "\n",
              "[7669 rows x 15 columns]"
            ],
            "text/html": [
              "\n",
              "  <div id=\"df-cbe1d7c5-877d-44e4-ab59-ac4e3e361f61\" class=\"colab-df-container\">\n",
              "    <div>\n",
              "<style scoped>\n",
              "    .dataframe tbody tr th:only-of-type {\n",
              "        vertical-align: middle;\n",
              "    }\n",
              "\n",
              "    .dataframe tbody tr th {\n",
              "        vertical-align: top;\n",
              "    }\n",
              "\n",
              "    .dataframe thead th {\n",
              "        text-align: right;\n",
              "    }\n",
              "</style>\n",
              "<table border=\"1\" class=\"dataframe\">\n",
              "  <thead>\n",
              "    <tr style=\"text-align: right;\">\n",
              "      <th></th>\n",
              "      <th>0</th>\n",
              "      <th>1</th>\n",
              "      <th>2</th>\n",
              "      <th>3</th>\n",
              "      <th>4</th>\n",
              "      <th>5</th>\n",
              "      <th>6</th>\n",
              "      <th>7</th>\n",
              "      <th>8</th>\n",
              "      <th>9</th>\n",
              "      <th>10</th>\n",
              "      <th>11</th>\n",
              "      <th>12</th>\n",
              "      <th>13</th>\n",
              "      <th>14</th>\n",
              "    </tr>\n",
              "  </thead>\n",
              "  <tbody>\n",
              "    <tr>\n",
              "      <th>0</th>\n",
              "      <td>name</td>\n",
              "      <td>rating</td>\n",
              "      <td>genre</td>\n",
              "      <td>year</td>\n",
              "      <td>released</td>\n",
              "      <td>score</td>\n",
              "      <td>votes</td>\n",
              "      <td>director</td>\n",
              "      <td>writer</td>\n",
              "      <td>star</td>\n",
              "      <td>country</td>\n",
              "      <td>budget</td>\n",
              "      <td>gross</td>\n",
              "      <td>company</td>\n",
              "      <td>runtime</td>\n",
              "    </tr>\n",
              "    <tr>\n",
              "      <th>1</th>\n",
              "      <td>The Shining</td>\n",
              "      <td>R</td>\n",
              "      <td>Drama</td>\n",
              "      <td>1980</td>\n",
              "      <td>June 13, 1980 (United States)</td>\n",
              "      <td>8.4</td>\n",
              "      <td>927000.0</td>\n",
              "      <td>Stanley Kubrick</td>\n",
              "      <td>Stephen King</td>\n",
              "      <td>Jack Nicholson</td>\n",
              "      <td>United Kingdom</td>\n",
              "      <td>19000000.0</td>\n",
              "      <td>46998772.0</td>\n",
              "      <td>Warner Bros.</td>\n",
              "      <td>146.0</td>\n",
              "    </tr>\n",
              "    <tr>\n",
              "      <th>2</th>\n",
              "      <td>The Blue Lagoon</td>\n",
              "      <td>R</td>\n",
              "      <td>Adventure</td>\n",
              "      <td>1980</td>\n",
              "      <td>July 2, 1980 (United States)</td>\n",
              "      <td>5.8</td>\n",
              "      <td>65000.0</td>\n",
              "      <td>Randal Kleiser</td>\n",
              "      <td>Henry De Vere Stacpoole</td>\n",
              "      <td>Brooke Shields</td>\n",
              "      <td>United States</td>\n",
              "      <td>4500000.0</td>\n",
              "      <td>58853106.0</td>\n",
              "      <td>Columbia Pictures</td>\n",
              "      <td>104.0</td>\n",
              "    </tr>\n",
              "    <tr>\n",
              "      <th>3</th>\n",
              "      <td>Star Wars: Episode V - The Empire Strikes Back</td>\n",
              "      <td>PG</td>\n",
              "      <td>Action</td>\n",
              "      <td>1980</td>\n",
              "      <td>June 20, 1980 (United States)</td>\n",
              "      <td>8.7</td>\n",
              "      <td>1200000.0</td>\n",
              "      <td>Irvin Kershner</td>\n",
              "      <td>Leigh Brackett</td>\n",
              "      <td>Mark Hamill</td>\n",
              "      <td>United States</td>\n",
              "      <td>18000000.0</td>\n",
              "      <td>538375067.0</td>\n",
              "      <td>Lucasfilm</td>\n",
              "      <td>124.0</td>\n",
              "    </tr>\n",
              "    <tr>\n",
              "      <th>4</th>\n",
              "      <td>Airplane!</td>\n",
              "      <td>PG</td>\n",
              "      <td>Comedy</td>\n",
              "      <td>1980</td>\n",
              "      <td>July 2, 1980 (United States)</td>\n",
              "      <td>7.7</td>\n",
              "      <td>221000.0</td>\n",
              "      <td>Jim Abrahams</td>\n",
              "      <td>Jim Abrahams</td>\n",
              "      <td>Robert Hays</td>\n",
              "      <td>United States</td>\n",
              "      <td>3500000.0</td>\n",
              "      <td>83453539.0</td>\n",
              "      <td>Paramount Pictures</td>\n",
              "      <td>88.0</td>\n",
              "    </tr>\n",
              "    <tr>\n",
              "      <th>...</th>\n",
              "      <td>...</td>\n",
              "      <td>...</td>\n",
              "      <td>...</td>\n",
              "      <td>...</td>\n",
              "      <td>...</td>\n",
              "      <td>...</td>\n",
              "      <td>...</td>\n",
              "      <td>...</td>\n",
              "      <td>...</td>\n",
              "      <td>...</td>\n",
              "      <td>...</td>\n",
              "      <td>...</td>\n",
              "      <td>...</td>\n",
              "      <td>...</td>\n",
              "      <td>...</td>\n",
              "    </tr>\n",
              "    <tr>\n",
              "      <th>7664</th>\n",
              "      <td>More to Life</td>\n",
              "      <td>NaN</td>\n",
              "      <td>Drama</td>\n",
              "      <td>2020</td>\n",
              "      <td>October 23, 2020 (United States)</td>\n",
              "      <td>3.1</td>\n",
              "      <td>18.0</td>\n",
              "      <td>Joseph Ebanks</td>\n",
              "      <td>Joseph Ebanks</td>\n",
              "      <td>Shannon Bond</td>\n",
              "      <td>United States</td>\n",
              "      <td>7000.0</td>\n",
              "      <td>NaN</td>\n",
              "      <td>NaN</td>\n",
              "      <td>90.0</td>\n",
              "    </tr>\n",
              "    <tr>\n",
              "      <th>7665</th>\n",
              "      <td>Dream Round</td>\n",
              "      <td>NaN</td>\n",
              "      <td>Comedy</td>\n",
              "      <td>2020</td>\n",
              "      <td>February 7, 2020 (United States)</td>\n",
              "      <td>4.7</td>\n",
              "      <td>36.0</td>\n",
              "      <td>Dusty Dukatz</td>\n",
              "      <td>Lisa Huston</td>\n",
              "      <td>Michael Saquella</td>\n",
              "      <td>United States</td>\n",
              "      <td>NaN</td>\n",
              "      <td>NaN</td>\n",
              "      <td>Cactus Blue Entertainment</td>\n",
              "      <td>90.0</td>\n",
              "    </tr>\n",
              "    <tr>\n",
              "      <th>7666</th>\n",
              "      <td>Saving Mbango</td>\n",
              "      <td>NaN</td>\n",
              "      <td>Drama</td>\n",
              "      <td>2020</td>\n",
              "      <td>April 27, 2020 (Cameroon)</td>\n",
              "      <td>5.7</td>\n",
              "      <td>29.0</td>\n",
              "      <td>Nkanya Nkwai</td>\n",
              "      <td>Lynno Lovert</td>\n",
              "      <td>Onyama Laura</td>\n",
              "      <td>United States</td>\n",
              "      <td>58750.0</td>\n",
              "      <td>NaN</td>\n",
              "      <td>Embi Productions</td>\n",
              "      <td>NaN</td>\n",
              "    </tr>\n",
              "    <tr>\n",
              "      <th>7667</th>\n",
              "      <td>It's Just Us</td>\n",
              "      <td>NaN</td>\n",
              "      <td>Drama</td>\n",
              "      <td>2020</td>\n",
              "      <td>October 1, 2020 (United States)</td>\n",
              "      <td>NaN</td>\n",
              "      <td>NaN</td>\n",
              "      <td>James Randall</td>\n",
              "      <td>James Randall</td>\n",
              "      <td>Christina Roz</td>\n",
              "      <td>United States</td>\n",
              "      <td>15000.0</td>\n",
              "      <td>NaN</td>\n",
              "      <td>NaN</td>\n",
              "      <td>120.0</td>\n",
              "    </tr>\n",
              "    <tr>\n",
              "      <th>7668</th>\n",
              "      <td>Tee em el</td>\n",
              "      <td>NaN</td>\n",
              "      <td>Horror</td>\n",
              "      <td>2020</td>\n",
              "      <td>August 19, 2020 (United States)</td>\n",
              "      <td>5.7</td>\n",
              "      <td>7.0</td>\n",
              "      <td>Pereko Mosia</td>\n",
              "      <td>Pereko Mosia</td>\n",
              "      <td>Siyabonga Mabaso</td>\n",
              "      <td>South Africa</td>\n",
              "      <td>NaN</td>\n",
              "      <td>NaN</td>\n",
              "      <td>PK 65 Films</td>\n",
              "      <td>102.0</td>\n",
              "    </tr>\n",
              "  </tbody>\n",
              "</table>\n",
              "<p>7669 rows × 15 columns</p>\n",
              "</div>\n",
              "    <div class=\"colab-df-buttons\">\n",
              "\n",
              "  <div class=\"colab-df-container\">\n",
              "    <button class=\"colab-df-convert\" onclick=\"convertToInteractive('df-cbe1d7c5-877d-44e4-ab59-ac4e3e361f61')\"\n",
              "            title=\"Convert this dataframe to an interactive table.\"\n",
              "            style=\"display:none;\">\n",
              "\n",
              "  <svg xmlns=\"http://www.w3.org/2000/svg\" height=\"24px\" viewBox=\"0 -960 960 960\">\n",
              "    <path d=\"M120-120v-720h720v720H120Zm60-500h600v-160H180v160Zm220 220h160v-160H400v160Zm0 220h160v-160H400v160ZM180-400h160v-160H180v160Zm440 0h160v-160H620v160ZM180-180h160v-160H180v160Zm440 0h160v-160H620v160Z\"/>\n",
              "  </svg>\n",
              "    </button>\n",
              "\n",
              "  <style>\n",
              "    .colab-df-container {\n",
              "      display:flex;\n",
              "      gap: 12px;\n",
              "    }\n",
              "\n",
              "    .colab-df-convert {\n",
              "      background-color: #E8F0FE;\n",
              "      border: none;\n",
              "      border-radius: 50%;\n",
              "      cursor: pointer;\n",
              "      display: none;\n",
              "      fill: #1967D2;\n",
              "      height: 32px;\n",
              "      padding: 0 0 0 0;\n",
              "      width: 32px;\n",
              "    }\n",
              "\n",
              "    .colab-df-convert:hover {\n",
              "      background-color: #E2EBFA;\n",
              "      box-shadow: 0px 1px 2px rgba(60, 64, 67, 0.3), 0px 1px 3px 1px rgba(60, 64, 67, 0.15);\n",
              "      fill: #174EA6;\n",
              "    }\n",
              "\n",
              "    .colab-df-buttons div {\n",
              "      margin-bottom: 4px;\n",
              "    }\n",
              "\n",
              "    [theme=dark] .colab-df-convert {\n",
              "      background-color: #3B4455;\n",
              "      fill: #D2E3FC;\n",
              "    }\n",
              "\n",
              "    [theme=dark] .colab-df-convert:hover {\n",
              "      background-color: #434B5C;\n",
              "      box-shadow: 0px 1px 3px 1px rgba(0, 0, 0, 0.15);\n",
              "      filter: drop-shadow(0px 1px 2px rgba(0, 0, 0, 0.3));\n",
              "      fill: #FFFFFF;\n",
              "    }\n",
              "  </style>\n",
              "\n",
              "    <script>\n",
              "      const buttonEl =\n",
              "        document.querySelector('#df-cbe1d7c5-877d-44e4-ab59-ac4e3e361f61 button.colab-df-convert');\n",
              "      buttonEl.style.display =\n",
              "        google.colab.kernel.accessAllowed ? 'block' : 'none';\n",
              "\n",
              "      async function convertToInteractive(key) {\n",
              "        const element = document.querySelector('#df-cbe1d7c5-877d-44e4-ab59-ac4e3e361f61');\n",
              "        const dataTable =\n",
              "          await google.colab.kernel.invokeFunction('convertToInteractive',\n",
              "                                                    [key], {});\n",
              "        if (!dataTable) return;\n",
              "\n",
              "        const docLinkHtml = 'Like what you see? Visit the ' +\n",
              "          '<a target=\"_blank\" href=https://colab.research.google.com/notebooks/data_table.ipynb>data table notebook</a>'\n",
              "          + ' to learn more about interactive tables.';\n",
              "        element.innerHTML = '';\n",
              "        dataTable['output_type'] = 'display_data';\n",
              "        await google.colab.output.renderOutput(dataTable, element);\n",
              "        const docLink = document.createElement('div');\n",
              "        docLink.innerHTML = docLinkHtml;\n",
              "        element.appendChild(docLink);\n",
              "      }\n",
              "    </script>\n",
              "  </div>\n",
              "\n",
              "\n",
              "<div id=\"df-78290269-3ea2-4f02-a965-97d81780fc0f\">\n",
              "  <button class=\"colab-df-quickchart\" onclick=\"quickchart('df-78290269-3ea2-4f02-a965-97d81780fc0f')\"\n",
              "            title=\"Suggest charts\"\n",
              "            style=\"display:none;\">\n",
              "\n",
              "<svg xmlns=\"http://www.w3.org/2000/svg\" height=\"24px\"viewBox=\"0 0 24 24\"\n",
              "     width=\"24px\">\n",
              "    <g>\n",
              "        <path d=\"M19 3H5c-1.1 0-2 .9-2 2v14c0 1.1.9 2 2 2h14c1.1 0 2-.9 2-2V5c0-1.1-.9-2-2-2zM9 17H7v-7h2v7zm4 0h-2V7h2v10zm4 0h-2v-4h2v4z\"/>\n",
              "    </g>\n",
              "</svg>\n",
              "  </button>\n",
              "\n",
              "<style>\n",
              "  .colab-df-quickchart {\n",
              "      --bg-color: #E8F0FE;\n",
              "      --fill-color: #1967D2;\n",
              "      --hover-bg-color: #E2EBFA;\n",
              "      --hover-fill-color: #174EA6;\n",
              "      --disabled-fill-color: #AAA;\n",
              "      --disabled-bg-color: #DDD;\n",
              "  }\n",
              "\n",
              "  [theme=dark] .colab-df-quickchart {\n",
              "      --bg-color: #3B4455;\n",
              "      --fill-color: #D2E3FC;\n",
              "      --hover-bg-color: #434B5C;\n",
              "      --hover-fill-color: #FFFFFF;\n",
              "      --disabled-bg-color: #3B4455;\n",
              "      --disabled-fill-color: #666;\n",
              "  }\n",
              "\n",
              "  .colab-df-quickchart {\n",
              "    background-color: var(--bg-color);\n",
              "    border: none;\n",
              "    border-radius: 50%;\n",
              "    cursor: pointer;\n",
              "    display: none;\n",
              "    fill: var(--fill-color);\n",
              "    height: 32px;\n",
              "    padding: 0;\n",
              "    width: 32px;\n",
              "  }\n",
              "\n",
              "  .colab-df-quickchart:hover {\n",
              "    background-color: var(--hover-bg-color);\n",
              "    box-shadow: 0 1px 2px rgba(60, 64, 67, 0.3), 0 1px 3px 1px rgba(60, 64, 67, 0.15);\n",
              "    fill: var(--button-hover-fill-color);\n",
              "  }\n",
              "\n",
              "  .colab-df-quickchart-complete:disabled,\n",
              "  .colab-df-quickchart-complete:disabled:hover {\n",
              "    background-color: var(--disabled-bg-color);\n",
              "    fill: var(--disabled-fill-color);\n",
              "    box-shadow: none;\n",
              "  }\n",
              "\n",
              "  .colab-df-spinner {\n",
              "    border: 2px solid var(--fill-color);\n",
              "    border-color: transparent;\n",
              "    border-bottom-color: var(--fill-color);\n",
              "    animation:\n",
              "      spin 1s steps(1) infinite;\n",
              "  }\n",
              "\n",
              "  @keyframes spin {\n",
              "    0% {\n",
              "      border-color: transparent;\n",
              "      border-bottom-color: var(--fill-color);\n",
              "      border-left-color: var(--fill-color);\n",
              "    }\n",
              "    20% {\n",
              "      border-color: transparent;\n",
              "      border-left-color: var(--fill-color);\n",
              "      border-top-color: var(--fill-color);\n",
              "    }\n",
              "    30% {\n",
              "      border-color: transparent;\n",
              "      border-left-color: var(--fill-color);\n",
              "      border-top-color: var(--fill-color);\n",
              "      border-right-color: var(--fill-color);\n",
              "    }\n",
              "    40% {\n",
              "      border-color: transparent;\n",
              "      border-right-color: var(--fill-color);\n",
              "      border-top-color: var(--fill-color);\n",
              "    }\n",
              "    60% {\n",
              "      border-color: transparent;\n",
              "      border-right-color: var(--fill-color);\n",
              "    }\n",
              "    80% {\n",
              "      border-color: transparent;\n",
              "      border-right-color: var(--fill-color);\n",
              "      border-bottom-color: var(--fill-color);\n",
              "    }\n",
              "    90% {\n",
              "      border-color: transparent;\n",
              "      border-bottom-color: var(--fill-color);\n",
              "    }\n",
              "  }\n",
              "</style>\n",
              "\n",
              "  <script>\n",
              "    async function quickchart(key) {\n",
              "      const quickchartButtonEl =\n",
              "        document.querySelector('#' + key + ' button');\n",
              "      quickchartButtonEl.disabled = true;  // To prevent multiple clicks.\n",
              "      quickchartButtonEl.classList.add('colab-df-spinner');\n",
              "      try {\n",
              "        const charts = await google.colab.kernel.invokeFunction(\n",
              "            'suggestCharts', [key], {});\n",
              "      } catch (error) {\n",
              "        console.error('Error during call to suggestCharts:', error);\n",
              "      }\n",
              "      quickchartButtonEl.classList.remove('colab-df-spinner');\n",
              "      quickchartButtonEl.classList.add('colab-df-quickchart-complete');\n",
              "    }\n",
              "    (() => {\n",
              "      let quickchartButtonEl =\n",
              "        document.querySelector('#df-78290269-3ea2-4f02-a965-97d81780fc0f button');\n",
              "      quickchartButtonEl.style.display =\n",
              "        google.colab.kernel.accessAllowed ? 'block' : 'none';\n",
              "    })();\n",
              "  </script>\n",
              "</div>\n",
              "\n",
              "  <div id=\"id_81f9ed5b-6ff4-49bc-8e91-2c0c17911573\">\n",
              "    <style>\n",
              "      .colab-df-generate {\n",
              "        background-color: #E8F0FE;\n",
              "        border: none;\n",
              "        border-radius: 50%;\n",
              "        cursor: pointer;\n",
              "        display: none;\n",
              "        fill: #1967D2;\n",
              "        height: 32px;\n",
              "        padding: 0 0 0 0;\n",
              "        width: 32px;\n",
              "      }\n",
              "\n",
              "      .colab-df-generate:hover {\n",
              "        background-color: #E2EBFA;\n",
              "        box-shadow: 0px 1px 2px rgba(60, 64, 67, 0.3), 0px 1px 3px 1px rgba(60, 64, 67, 0.15);\n",
              "        fill: #174EA6;\n",
              "      }\n",
              "\n",
              "      [theme=dark] .colab-df-generate {\n",
              "        background-color: #3B4455;\n",
              "        fill: #D2E3FC;\n",
              "      }\n",
              "\n",
              "      [theme=dark] .colab-df-generate:hover {\n",
              "        background-color: #434B5C;\n",
              "        box-shadow: 0px 1px 3px 1px rgba(0, 0, 0, 0.15);\n",
              "        filter: drop-shadow(0px 1px 2px rgba(0, 0, 0, 0.3));\n",
              "        fill: #FFFFFF;\n",
              "      }\n",
              "    </style>\n",
              "    <button class=\"colab-df-generate\" onclick=\"generateWithVariable('data')\"\n",
              "            title=\"Generate code using this dataframe.\"\n",
              "            style=\"display:none;\">\n",
              "\n",
              "  <svg xmlns=\"http://www.w3.org/2000/svg\" height=\"24px\"viewBox=\"0 0 24 24\"\n",
              "       width=\"24px\">\n",
              "    <path d=\"M7,19H8.4L18.45,9,17,7.55,7,17.6ZM5,21V16.75L18.45,3.32a2,2,0,0,1,2.83,0l1.4,1.43a1.91,1.91,0,0,1,.58,1.4,1.91,1.91,0,0,1-.58,1.4L9.25,21ZM18.45,9,17,7.55Zm-12,3A5.31,5.31,0,0,0,4.9,8.1,5.31,5.31,0,0,0,1,6.5,5.31,5.31,0,0,0,4.9,4.9,5.31,5.31,0,0,0,6.5,1,5.31,5.31,0,0,0,8.1,4.9,5.31,5.31,0,0,0,12,6.5,5.46,5.46,0,0,0,6.5,12Z\"/>\n",
              "  </svg>\n",
              "    </button>\n",
              "    <script>\n",
              "      (() => {\n",
              "      const buttonEl =\n",
              "        document.querySelector('#id_81f9ed5b-6ff4-49bc-8e91-2c0c17911573 button.colab-df-generate');\n",
              "      buttonEl.style.display =\n",
              "        google.colab.kernel.accessAllowed ? 'block' : 'none';\n",
              "\n",
              "      buttonEl.onclick = () => {\n",
              "        google.colab.notebook.generateWithVariable('data');\n",
              "      }\n",
              "      })();\n",
              "    </script>\n",
              "  </div>\n",
              "\n",
              "    </div>\n",
              "  </div>\n"
            ],
            "application/vnd.google.colaboratory.intrinsic+json": {
              "type": "dataframe",
              "variable_name": "data",
              "summary": "{\n  \"name\": \"data\",\n  \"rows\": 7669,\n  \"fields\": [\n    {\n      \"column\": 0,\n      \"properties\": {\n        \"dtype\": \"string\",\n        \"num_unique_values\": 7513,\n        \"samples\": [\n          \"Kung Pow: Enter the Fist\",\n          \"The Book of Eli\",\n          \"How Do You Know\"\n        ],\n        \"semantic_type\": \"\",\n        \"description\": \"\"\n      }\n    },\n    {\n      \"column\": 1,\n      \"properties\": {\n        \"dtype\": \"category\",\n        \"num_unique_values\": 13,\n        \"samples\": [\n          \"TV-MA\",\n          \"Unrated\",\n          \"rating\"\n        ],\n        \"semantic_type\": \"\",\n        \"description\": \"\"\n      }\n    },\n    {\n      \"column\": 2,\n      \"properties\": {\n        \"dtype\": \"category\",\n        \"num_unique_values\": 20,\n        \"samples\": [\n          \"genre\",\n          \"Mystery\",\n          \"Thriller\"\n        ],\n        \"semantic_type\": \"\",\n        \"description\": \"\"\n      }\n    },\n    {\n      \"column\": 3,\n      \"properties\": {\n        \"dtype\": \"category\",\n        \"num_unique_values\": 42,\n        \"samples\": [\n          \"2004\",\n          \"1992\",\n          \"1987\"\n        ],\n        \"semantic_type\": \"\",\n        \"description\": \"\"\n      }\n    },\n    {\n      \"column\": 4,\n      \"properties\": {\n        \"dtype\": \"category\",\n        \"num_unique_values\": 3415,\n        \"samples\": [\n          \"September 29, 2004 (France)\",\n          \"April 19, 2003 (Russia)\",\n          \"July 16, 1982 (West Germany)\"\n        ],\n        \"semantic_type\": \"\",\n        \"description\": \"\"\n      }\n    },\n    {\n      \"column\": 5,\n      \"properties\": {\n        \"dtype\": \"category\",\n        \"num_unique_values\": 73,\n        \"samples\": [\n          \"7.7\",\n          \"9.3\",\n          \"6.7\"\n        ],\n        \"semantic_type\": \"\",\n        \"description\": \"\"\n      }\n    },\n    {\n      \"column\": 6,\n      \"properties\": {\n        \"dtype\": \"category\",\n        \"num_unique_values\": 937,\n        \"samples\": [\n          \"726.0\",\n          \"269.0\",\n          \"208.0\"\n        ],\n        \"semantic_type\": \"\",\n        \"description\": \"\"\n      }\n    },\n    {\n      \"column\": 7,\n      \"properties\": {\n        \"dtype\": \"category\",\n        \"num_unique_values\": 2950,\n        \"samples\": [\n          \"Robert Radler\",\n          \"Jean-Claude Lord\",\n          \"Camille Delamarre\"\n        ],\n        \"semantic_type\": \"\",\n        \"description\": \"\"\n      }\n    },\n    {\n      \"column\": 8,\n      \"properties\": {\n        \"dtype\": \"string\",\n        \"num_unique_values\": 4536,\n        \"samples\": [\n          \"John Blumenthal\",\n          \"Scott McPherson\",\n          \"Zack Kahn\"\n        ],\n        \"semantic_type\": \"\",\n        \"description\": \"\"\n      }\n    },\n    {\n      \"column\": 9,\n      \"properties\": {\n        \"dtype\": \"category\",\n        \"num_unique_values\": 2815,\n        \"samples\": [\n          \"Stan Ivar\",\n          \"Mohamad Ali Keshavarz\",\n          \"Adam Beach\"\n        ],\n        \"semantic_type\": \"\",\n        \"description\": \"\"\n      }\n    },\n    {\n      \"column\": 10,\n      \"properties\": {\n        \"dtype\": \"category\",\n        \"num_unique_values\": 60,\n        \"samples\": [\n          \"country\",\n          \"Canada\",\n          \"Republic of Macedonia\"\n        ],\n        \"semantic_type\": \"\",\n        \"description\": \"\"\n      }\n    },\n    {\n      \"column\": 11,\n      \"properties\": {\n        \"dtype\": \"category\",\n        \"num_unique_values\": 414,\n        \"samples\": [\n          \"7980000.0\",\n          \"209000000.0\",\n          \"245000000.0\"\n        ],\n        \"semantic_type\": \"\",\n        \"description\": \"\"\n      }\n    },\n    {\n      \"column\": 12,\n      \"properties\": {\n        \"dtype\": \"string\",\n        \"num_unique_values\": 7473,\n        \"samples\": [\n          \"16262415.0\",\n          \"162364.0\",\n          \"118492.0\"\n        ],\n        \"semantic_type\": \"\",\n        \"description\": \"\"\n      }\n    },\n    {\n      \"column\": 13,\n      \"properties\": {\n        \"dtype\": \"category\",\n        \"num_unique_values\": 2386,\n        \"samples\": [\n          \"Casey Silver Productions\",\n          \"Channel Films\",\n          \"Engine Film\"\n        ],\n        \"semantic_type\": \"\",\n        \"description\": \"\"\n      }\n    },\n    {\n      \"column\": 14,\n      \"properties\": {\n        \"dtype\": \"category\",\n        \"num_unique_values\": 139,\n        \"samples\": [\n          \"166.0\",\n          \"136.0\",\n          \"99.0\"\n        ],\n        \"semantic_type\": \"\",\n        \"description\": \"\"\n      }\n    }\n  ]\n}"
            }
          },
          "metadata": {},
          "execution_count": 4
        }
      ]
    },
    {
      "cell_type": "code",
      "source": [
        "print(data.describe())"
      ],
      "metadata": {
        "colab": {
          "base_uri": "https://localhost:8080/"
        },
        "id": "kAF_wyQMW_rn",
        "outputId": "2f1efac7-4183-4979-863d-8dcf60ee2dea"
      },
      "execution_count": 5,
      "outputs": [
        {
          "output_type": "stream",
          "name": "stdout",
          "text": [
            "           0     1       2     3                             4     5   \\\n",
            "count    7669  7592    7669  7669                          7667  7666   \n",
            "unique   7513    13      20    42                          3415    73   \n",
            "top     Venom     R  Comedy  2000  May 17, 2019 (United States)   6.6   \n",
            "freq        3  3697    2245   200                             9   359   \n",
            "\n",
            "             6            7            8             9              10  \\\n",
            "count      7666         7669         7666          7668           7666   \n",
            "unique      937         2950         4536          2815             60   \n",
            "top     13000.0  Woody Allen  Woody Allen  Nicolas Cage  United States   \n",
            "freq        117           38           37            43           5475   \n",
            "\n",
            "                11          12                  13    14  \n",
            "count         5498        7480                7652  7665  \n",
            "unique         414        7473                2386   139  \n",
            "top     20000000.0  14000000.0  Universal Pictures  97.0  \n",
            "freq           233           3                 377   240  \n"
          ]
        }
      ]
    },
    {
      "cell_type": "markdown",
      "source": [
        "Преобразуем столбцы в числовой формат и заполняем пропуски, Заполнение пропущенных значений для строковых признаков наиболее часто встречающимся значением"
      ],
      "metadata": {
        "id": "MRRhTyz2EVBr"
      }
    },
    {
      "cell_type": "code",
      "source": [
        "data.columns = ['name', 'rating', 'genre', 'year', 'released', 'score', 'votes',\n",
        "                'director', 'writer', 'star', 'country', 'budget', 'gross',\n",
        "                'company', 'runtime']\n",
        "data.columns = data.columns.astype(str).str.strip().str.lower()\n",
        "data['year'] = pd.to_numeric(data['year'], errors='coerce')\n",
        "\n",
        "# Обработка пропущенных значений для числовых признаков\n",
        "numeric_columns = ['score', 'votes', 'budget', 'gross', 'runtime']\n",
        "data[numeric_columns] = data[numeric_columns].apply(pd.to_numeric, errors='coerce')\n",
        "data[numeric_columns] = data[numeric_columns].fillna(data[numeric_columns].mean())\n",
        "\n",
        "# Обработка пропущенных значений для строковых признаков\n",
        "categorical_columns = ['rating', 'genre', 'director', 'writer', 'star', 'country', 'company']\n",
        "for column in categorical_columns:\n",
        "    mode_value = data[column].mode()[0]  # Находим наиболее частое значение\n",
        "    data[column] = data[column].fillna(mode_value)  # Заполняем пропуски этим значением"
      ],
      "metadata": {
        "id": "oS1dIgCjEX9q"
      },
      "execution_count": 6,
      "outputs": []
    },
    {
      "cell_type": "markdown",
      "source": [
        "Удаляем строки, если после этого всё ещё есть пропуски"
      ],
      "metadata": {
        "id": "Hp8Q27Sk6uXV"
      }
    },
    {
      "cell_type": "code",
      "source": [
        "\n",
        "data = data.dropna()"
      ],
      "metadata": {
        "id": "T1zF6WsR6v7I"
      },
      "execution_count": 7,
      "outputs": []
    },
    {
      "cell_type": "markdown",
      "source": [
        "Созданим корреляционную матрицу"
      ],
      "metadata": {
        "id": "4pbqpclSDQAS"
      }
    },
    {
      "cell_type": "code",
      "source": [
        "# Создаём датафрейм с только числовыми столбцами\n",
        "numerical_data = data[numeric_columns]\n",
        "\n",
        "# Вычисляем корреляционную матрицу\n",
        "correlation_matrix = numerical_data.corr()\n",
        "\n",
        "# Печатаем корреляционную матрицу\n",
        "print(\"\\nКорреляционная матрица:\")\n",
        "print(correlation_matrix)\n",
        "\n",
        "# Визуализация корреляционной матрицы\n",
        "plt.figure(figsize=(10, 8))\n",
        "sns.heatmap(correlation_matrix, annot=True, cmap=\"coolwarm\", fmt=\".2f\", cbar=True)\n",
        "plt.title(\"Корреляционная матрица\")\n",
        "plt.show()"
      ],
      "metadata": {
        "colab": {
          "base_uri": "https://localhost:8080/",
          "height": 838
        },
        "id": "3H4YOlNGDTFu",
        "outputId": "134c8bc3-e4bd-4a1c-8fda-aa46b6f97f08"
      },
      "execution_count": 8,
      "outputs": [
        {
          "output_type": "stream",
          "name": "stdout",
          "text": [
            "\n",
            "Корреляционная матрица:\n",
            "            score     votes    budget     gross   runtime\n",
            "score    1.000000  0.409221  0.064545  0.182880  0.399356\n",
            "votes    0.409221  1.000000  0.421007  0.628714  0.309167\n",
            "budget   0.064545  0.421007  1.000000  0.711270  0.265287\n",
            "gross    0.182880  0.628714  0.711270  1.000000  0.241335\n",
            "runtime  0.399356  0.309167  0.265287  0.241335  1.000000\n"
          ]
        },
        {
          "output_type": "display_data",
          "data": {
            "text/plain": [
              "<Figure size 1000x800 with 2 Axes>"
            ],
            "image/png": "[encoded data removed]"
          },
          "metadata": {}
        }
      ]
    },
    {
      "cell_type": "markdown",
      "source": [
        "создаем класс\n"
      ],
      "metadata": {
        "id": "x2UsoboMXPSt"
      }
    },
    {
      "cell_type": "code",
      "source": [
        "# Создаем столбец \"class_rating\" на основе значения \"score\"\n",
        "def assign_class(row):\n",
        "    try:\n",
        "        score = float(row['score'])\n",
        "        if score >= 8:\n",
        "            return 3\n",
        "        elif score >= 5:\n",
        "            return 2\n",
        "        else:\n",
        "            return 1\n",
        "    except ValueError:  # Если score не число\n",
        "        return None\n",
        "data = data.copy()\n",
        "data.loc[:, 'class_rating'] = data.apply(assign_class, axis=1)\n"
      ],
      "metadata": {
        "id": "fHvmrIedYW6g"
      },
      "execution_count": 10,
      "outputs": []
    },
    {
      "cell_type": "markdown",
      "source": [
        "Преобразование возрастных рейтингов"
      ],
      "metadata": {
        "id": "B0KRj9IaAShN"
      }
    },
    {
      "cell_type": "code",
      "source": [
        "# Убедитесь, что data — это копия\n",
        "data = data.copy()\n",
        "\n",
        "# Преобразование возрастных рейтингов\n",
        "lert_mapping = {'r': 1, 'pg': 2, 'pg-13': 3, 'g': 4, 'nc-17': 5}\n",
        "data.loc[:, 'rating'] = data['rating'].map(lert_mapping).fillna(0)\n"
      ],
      "metadata": {
        "id": "nnODwlj5cwuu"
      },
      "execution_count": 11,
      "outputs": []
    },
    {
      "cell_type": "code",
      "source": [],
      "metadata": {
        "id": "faql5Fv5CigZ"
      },
      "execution_count": 10,
      "outputs": []
    },
    {
      "cell_type": "markdown",
      "source": [
        "Векторизовали string признаки"
      ],
      "metadata": {
        "id": "srqAJrVycmTz"
      }
    },
    {
      "cell_type": "code",
      "source": [
        "string_columns = ['genre', 'director', 'writer', 'star', 'country', 'company']\n",
        "data = pd.get_dummies(data, columns=string_columns, prefix=string_columns)\n",
        "print(f\"Итоговое количество столбцов после векторизации: {len(data.columns)}\")"
      ],
      "metadata": {
        "colab": {
          "base_uri": "https://localhost:8080/"
        },
        "id": "_xiVlZ3NCIc0",
        "outputId": "75a4319e-6e62-415b-86b5-5db2ea622a59"
      },
      "execution_count": 12,
      "outputs": [
        {
          "output_type": "stream",
          "name": "stdout",
          "text": [
            "Итоговое количество столбцов после векторизации: 12771\n"
          ]
        }
      ]
    },
    {
      "cell_type": "markdown",
      "source": [
        "Нормализация"
      ],
      "metadata": {
        "id": "r_Nm1hKdKtyU"
      }
    },
    {
      "cell_type": "code",
      "source": [
        "# Нормализация числовых признаков\n",
        "scaler = MinMaxScaler()\n",
        "data[numeric_columns] = scaler.fit_transform(data[numeric_columns])"
      ],
      "metadata": {
        "id": "Udze_-kaK3UG"
      },
      "execution_count": 13,
      "outputs": []
    },
    {
      "cell_type": "code",
      "source": [],
      "metadata": {
        "id": "piSbwY_FMoOF"
      },
      "execution_count": 12,
      "outputs": []
    },
    {
      "cell_type": "markdown",
      "source": [
        "Разделяем данные на обучающую и тестовую выборки"
      ],
      "metadata": {
        "id": "68LwLKzIO9Zg"
      }
    },
    {
      "cell_type": "code",
      "source": [
        "# Разделяем данные на обучающую и тестовую выборки\n",
        "X = data.drop(columns=['rating', 'class_rating','name'])  # Убираем столбцы 'rating' и 'class_rating'\n",
        "y = data['class_rating']  # Целевая переменная - класс фильма\n"
      ],
      "metadata": {
        "id": "dQXMTXqDI-h9"
      },
      "execution_count": 14,
      "outputs": []
    },
    {
      "cell_type": "markdown",
      "source": [
        "Обрабатываем пропущенные значения (заполняем средним)"
      ],
      "metadata": {
        "id": "EyYa0AG-9kqz"
      }
    },
    {
      "cell_type": "code",
      "source": [
        "# Обрабатываем пропущенные значения для числовых признаков\n",
        "imputer = SimpleImputer(strategy='mean')\n",
        "data[numeric_columns] = imputer.fit_transform(data[numeric_columns])\n",
        "# Убираем все исходные столбцы, которые не прошли векторизацию\n",
        "data = data[numeric_columns + [col for col in data.columns if col not in numeric_columns]]\n",
        "data = data.dropna()"
      ],
      "metadata": {
        "id": "wTQB63As9jnL"
      },
      "execution_count": 15,
      "outputs": []
    },
    {
      "cell_type": "markdown",
      "source": [
        "Постановка задачи:\n",
        "нужно предсказать класс фильмов по всем данным кроме рейтинга(класс фильма - хороший, средний плохой), для увеличение точности я использую 1. Подбор гиперпараметров с GridSearchCV 2. Использование взвешенных соседей"
      ],
      "metadata": {
        "id": "OhepI_7wPgv6"
      }
    },
    {
      "cell_type": "code",
      "source": [
        "X = X.drop(columns=['released'], errors='ignore')\n",
        "# Разделяем данные на обучающую и тестовую выборки\n",
        "X_train, X_test, y_train, y_test = train_test_split(X, y, test_size=0.3, random_state=42)\n",
        "\n",
        "\n",
        "# Применяем SMOTE для балансировки классов в обучающей выборке\n",
        "smote = SMOTE(sampling_strategy='auto', random_state=42)\n",
        "\n",
        "print(X_train.dtypes)\n",
        "X_train_resampled, y_train_resampled = smote.fit_resample(X_train, y_train)\n",
        "\n",
        "# Создаем и обучаем модель KNN\n",
        "knn_model = KNeighborsClassifier(n_neighbors=5)\n",
        "knn_model.fit(X_train_resampled, y_train_resampled)\n",
        "\n",
        "# Прогнозируем на тестовой выборке\n",
        "y_pred = knn_model.predict(X_test)\n",
        "\n",
        "# Оценка качества модели\n",
        "print(classification_report(y_test, y_pred))\n",
        "\n",
        "# Выводим точность модели\n",
        "accuracy = knn_model.score(X_test, y_test)\n",
        "print(f\"Accuracy: {accuracy:.4f}\")"
      ],
      "metadata": {
        "colab": {
          "base_uri": "https://localhost:8080/"
        },
        "id": "CZxEkAg9RtvF",
        "outputId": "5ce860e6-9626-41ed-8e1f-7ea051925d49"
      },
      "execution_count": 16,
      "outputs": [
        {
          "output_type": "stream",
          "name": "stdout",
          "text": [
            "year                                float64\n",
            "score                               float64\n",
            "votes                               float64\n",
            "budget                              float64\n",
            "gross                               float64\n",
            "                                     ...   \n",
            "company_i am OTHER                     bool\n",
            "company_i5 Films                       bool\n",
            "company_iDeal Partners Film Fund       bool\n",
            "company_micro_scope                    bool\n",
            "company_thefyzz                        bool\n",
            "Length: 12767, dtype: object\n"
          ]
        },
        {
          "output_type": "stream",
          "name": "stderr",
          "text": [
            "/usr/local/lib/python3.10/dist-packages/sklearn/base.py:474: FutureWarning: `BaseEstimator._validate_data` is deprecated in 1.6 and will be removed in 1.7. Use `sklearn.utils.validation.validate_data` instead. This function becomes public and is part of the scikit-learn developer API.\n",
            "  warnings.warn(\n",
            "/usr/local/lib/python3.10/dist-packages/sklearn/utils/_tags.py:354: FutureWarning: The SMOTE or classes from which it inherits use `_get_tags` and `_more_tags`. Please define the `__sklearn_tags__` method, or inherit from `sklearn.base.BaseEstimator` and/or other appropriate mixins such as `sklearn.base.TransformerMixin`, `sklearn.base.ClassifierMixin`, `sklearn.base.RegressorMixin`, and `sklearn.base.OutlierMixin`. From scikit-learn 1.7, not defining `__sklearn_tags__` will raise an error.\n",
            "  warnings.warn(\n"
          ]
        },
        {
          "output_type": "stream",
          "name": "stdout",
          "text": [
            "              precision    recall  f1-score   support\n",
            "\n",
            "           1       0.76      0.22      0.34       177\n",
            "           2       0.90      0.99      0.94      2031\n",
            "           3       0.45      0.05      0.10        92\n",
            "\n",
            "    accuracy                           0.89      2300\n",
            "   macro avg       0.71      0.42      0.46      2300\n",
            "weighted avg       0.87      0.89      0.86      2300\n",
            "\n",
            "Accuracy: 0.8943\n"
          ]
        }
      ]
    },
    {
      "cell_type": "markdown",
      "source": [
        "Ошибки:"
      ],
      "metadata": {
        "id": "-sGCa__1auly"
      }
    },
    {
      "cell_type": "code",
      "source": [
        "from sklearn.metrics import mean_squared_error\n",
        "\n",
        "# Вычисляем среднеквадратичные ошибки для тестовой и обучающей выборки\n",
        "test_error = mean_squared_error(y_test, y_pred)\n",
        "train_error = mean_squared_error(y_train_resampled, knn_model.predict(X_train_resampled))\n",
        "\n",
        "# Выводим ошибки\n",
        "print(f\"Train Error: {train_error}\")\n",
        "print(f\"Test Error: {test_error}\")"
      ],
      "metadata": {
        "colab": {
          "base_uri": "https://localhost:8080/"
        },
        "id": "oo_7AauMECIK",
        "outputId": "6c893456-2faa-49db-9ccf-34b37f0c00d2"
      },
      "execution_count": 17,
      "outputs": [
        {
          "output_type": "stream",
          "name": "stdout",
          "text": [
            "Train Error: 0.0010427528675703858\n",
            "Test Error: 0.10565217391304348\n"
          ]
        }
      ]
    },
    {
      "cell_type": "markdown",
      "source": [
        "Вывод\n",
        "\n",
        "В данной работе была рассмотрена задача классификации фильмов на основе их характеристик. Для этого был использован датасет, содержащий данные о фильмах, включая их рейтинг, жанр, год выпуска, сборы, бюджет и другие параметры.\n",
        "\n",
        "В процессе работы были выполнены следующие шаги:\n",
        "\n",
        "Подготовка данных:\n",
        "\n",
        "Выделены числовые признаки, включая score, votes, budget, gross и runtime.\n",
        "Категориальные признаки (genre, director, writer, star, country, company) преобразованы в числовое представление методом векторизации (get_dummies).\n",
        "Пропущенные значения в числовых данных были заполнены средними значениями, а для категориальных — модой.\n",
        "Проведен анализ корреляции между числовыми признаками, что позволило выявить наиболее значимые взаимосвязи.\n",
        "\n",
        "Разработка модели:\n",
        "\n",
        "Для классификации фильмов по их рейтингу был применен алгоритм k-ближайших соседей (KNN).\n",
        "Данные разделены на обучающую и тестовую выборки. Обучающая выборка дополнительно сбалансирована с использованием метода SMOTE для устранения дисбаланса между классами.\n",
        "Модель была обучена на сбалансированных данных, после чего проведена проверка на тестовой выборке.\n",
        "\n",
        "Оценка качества:\n",
        "\n",
        "Качество модели было оценено с использованием метрик classification_report и mean_squared_error.\n",
        "Результаты показали высокую точность на доминирующем классе, однако качество на меньшинствах требует дальнейших улучшений.\n",
        "Среднеквадратичные ошибки для обучающей и тестовой выборок позволили оценить степень переобучения модели.\n",
        "\n",
        "Заключение\n",
        "\n",
        "Разработанная модель классифицирует фильмы по их рейтингу, используя основные характеристики. Она демонстрирует высокую точность на тестовой выборке, что подтверждает корректность подхода. Однако дальнейшая работа может быть направлена на улучшение предсказаний для меньшинств, например, путем внедрения методов повышения устойчивости к дисбалансу классов.\n",
        "\n",
        "Эта модель может быть использована для предварительного анализа фильмов в сфере рекомендаций, анализа рынка и других областях киноиндустрии."
      ],
      "metadata": {
        "id": "pGTbU-SZELv4"
      }
    },
    {
      "cell_type": "code",
      "source": [],
      "metadata": {
        "id": "miMAXzueEM9I"
      },
      "execution_count": null,
      "outputs": []
    }
  ]
}